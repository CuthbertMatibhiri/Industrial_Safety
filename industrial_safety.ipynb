{
 "cells": [
  {
   "cell_type": "raw",
   "id": "d5b5f720-196b-45a3-93f0-0f46859d5ca8",
   "metadata": {},
   "source": [
    "IMPORTING NECESSARY LIBRARIES"
   ]
  },
  {
   "cell_type": "code",
   "execution_count": 25,
   "id": "adf051c9-9a2b-4a0c-b46e-cc9bb1b46883",
   "metadata": {},
   "outputs": [],
   "source": [
    "import pandas as pd\n",
    "import numpy as np\n",
    "import matplotlib.pyplot as plt\n",
    "import seaborn as sns\n",
    "from sklearn.model_selection import train_test_split\n",
    "from sklearn.feature_extraction.text import TfidfVectorizer\n",
    "from sklearn.feature_extraction.text import CountVectorizer\n",
    "from sklearn.dummy import DummyClassifier\n",
    "from sklearn.linear_model import LogisticRegression\n",
    "from sklearn.metrics import roc_auc_score, accuracy_score\n",
    "from sklearn.ensemble import RandomForestClassifier"
   ]
  },
  {
   "cell_type": "code",
   "execution_count": 26,
   "id": "c2e7319c-38fb-466e-bdc1-e8d7992ab0e4",
   "metadata": {},
   "outputs": [],
   "source": [
    "df = pd.read_csv(r\"C:\\Users\\lenovo\\Documents\\ds\\\\Project - industrial health and safety analysis\\industrial_safety\\industrial_safety.csv\")"
   ]
  },
  {
   "cell_type": "raw",
   "id": "55582f5f-04e8-4af1-b8e0-18fa7cb0443d",
   "metadata": {},
   "source": [
    "EXPLORATORY DATA ANALYSIS"
   ]
  },
  {
   "cell_type": "code",
   "execution_count": 27,
   "id": "8d7e3cd5-15bf-4ba8-971f-70d4289dc915",
   "metadata": {
    "scrolled": true
   },
   "outputs": [
    {
     "data": {
      "text/html": [
       "<div>\n",
       "<style scoped>\n",
       "    .dataframe tbody tr th:only-of-type {\n",
       "        vertical-align: middle;\n",
       "    }\n",
       "\n",
       "    .dataframe tbody tr th {\n",
       "        vertical-align: top;\n",
       "    }\n",
       "\n",
       "    .dataframe thead th {\n",
       "        text-align: right;\n",
       "    }\n",
       "</style>\n",
       "<table border=\"1\" class=\"dataframe\">\n",
       "  <thead>\n",
       "    <tr style=\"text-align: right;\">\n",
       "      <th></th>\n",
       "      <th>Unnamed: 0</th>\n",
       "      <th>Data</th>\n",
       "      <th>Countries</th>\n",
       "      <th>Local</th>\n",
       "      <th>Industry Sector</th>\n",
       "      <th>Accident Level</th>\n",
       "      <th>Potential Accident Level</th>\n",
       "      <th>Genre</th>\n",
       "      <th>Employee or Third Party</th>\n",
       "      <th>Critical Risk</th>\n",
       "      <th>Description</th>\n",
       "    </tr>\n",
       "  </thead>\n",
       "  <tbody>\n",
       "    <tr>\n",
       "      <th>0</th>\n",
       "      <td>0</td>\n",
       "      <td>2016-01-01 00:00:00</td>\n",
       "      <td>Country_01</td>\n",
       "      <td>Local_01</td>\n",
       "      <td>Mining</td>\n",
       "      <td>I</td>\n",
       "      <td>IV</td>\n",
       "      <td>Male</td>\n",
       "      <td>Third Party</td>\n",
       "      <td>Pressed</td>\n",
       "      <td>While removing the drill rod of the Jumbo 08 f...</td>\n",
       "    </tr>\n",
       "    <tr>\n",
       "      <th>1</th>\n",
       "      <td>1</td>\n",
       "      <td>2016-01-02 00:00:00</td>\n",
       "      <td>Country_02</td>\n",
       "      <td>Local_02</td>\n",
       "      <td>Mining</td>\n",
       "      <td>I</td>\n",
       "      <td>IV</td>\n",
       "      <td>Male</td>\n",
       "      <td>Employee</td>\n",
       "      <td>Pressurized Systems</td>\n",
       "      <td>During the activation of a sodium sulphide pum...</td>\n",
       "    </tr>\n",
       "    <tr>\n",
       "      <th>2</th>\n",
       "      <td>2</td>\n",
       "      <td>2016-01-06 00:00:00</td>\n",
       "      <td>Country_01</td>\n",
       "      <td>Local_03</td>\n",
       "      <td>Mining</td>\n",
       "      <td>I</td>\n",
       "      <td>III</td>\n",
       "      <td>Male</td>\n",
       "      <td>Third Party (Remote)</td>\n",
       "      <td>Manual Tools</td>\n",
       "      <td>In the sub-station MILPO located at level +170...</td>\n",
       "    </tr>\n",
       "    <tr>\n",
       "      <th>3</th>\n",
       "      <td>3</td>\n",
       "      <td>2016-01-08 00:00:00</td>\n",
       "      <td>Country_01</td>\n",
       "      <td>Local_04</td>\n",
       "      <td>Mining</td>\n",
       "      <td>I</td>\n",
       "      <td>I</td>\n",
       "      <td>Male</td>\n",
       "      <td>Third Party</td>\n",
       "      <td>Others</td>\n",
       "      <td>Being 9:45 am. approximately in the Nv. 1880 C...</td>\n",
       "    </tr>\n",
       "    <tr>\n",
       "      <th>4</th>\n",
       "      <td>4</td>\n",
       "      <td>2016-01-10 00:00:00</td>\n",
       "      <td>Country_01</td>\n",
       "      <td>Local_04</td>\n",
       "      <td>Mining</td>\n",
       "      <td>IV</td>\n",
       "      <td>IV</td>\n",
       "      <td>Male</td>\n",
       "      <td>Third Party</td>\n",
       "      <td>Others</td>\n",
       "      <td>Approximately at 11:45 a.m. in circumstances t...</td>\n",
       "    </tr>\n",
       "    <tr>\n",
       "      <th>5</th>\n",
       "      <td>5</td>\n",
       "      <td>2016-01-12 00:00:00</td>\n",
       "      <td>Country_02</td>\n",
       "      <td>Local_05</td>\n",
       "      <td>Metals</td>\n",
       "      <td>I</td>\n",
       "      <td>III</td>\n",
       "      <td>Male</td>\n",
       "      <td>Third Party (Remote)</td>\n",
       "      <td>Pressurized Systems</td>\n",
       "      <td>During the unloading operation of the ustulado...</td>\n",
       "    </tr>\n",
       "    <tr>\n",
       "      <th>6</th>\n",
       "      <td>6</td>\n",
       "      <td>2016-01-16 00:00:00</td>\n",
       "      <td>Country_02</td>\n",
       "      <td>Local_05</td>\n",
       "      <td>Metals</td>\n",
       "      <td>I</td>\n",
       "      <td>III</td>\n",
       "      <td>Male</td>\n",
       "      <td>Employee</td>\n",
       "      <td>Fall prevention (same level)</td>\n",
       "      <td>The collaborator reports that he was on street...</td>\n",
       "    </tr>\n",
       "    <tr>\n",
       "      <th>7</th>\n",
       "      <td>7</td>\n",
       "      <td>2016-01-17 00:00:00</td>\n",
       "      <td>Country_01</td>\n",
       "      <td>Local_04</td>\n",
       "      <td>Mining</td>\n",
       "      <td>I</td>\n",
       "      <td>III</td>\n",
       "      <td>Male</td>\n",
       "      <td>Third Party</td>\n",
       "      <td>Pressed</td>\n",
       "      <td>At approximately 04:50 p.m., when the mechanic...</td>\n",
       "    </tr>\n",
       "    <tr>\n",
       "      <th>8</th>\n",
       "      <td>8</td>\n",
       "      <td>2016-01-19 00:00:00</td>\n",
       "      <td>Country_02</td>\n",
       "      <td>Local_02</td>\n",
       "      <td>Mining</td>\n",
       "      <td>I</td>\n",
       "      <td>IV</td>\n",
       "      <td>Male</td>\n",
       "      <td>Third Party (Remote)</td>\n",
       "      <td>Others</td>\n",
       "      <td>Employee was sitting in the resting area at le...</td>\n",
       "    </tr>\n",
       "    <tr>\n",
       "      <th>9</th>\n",
       "      <td>9</td>\n",
       "      <td>2016-01-26 00:00:00</td>\n",
       "      <td>Country_01</td>\n",
       "      <td>Local_06</td>\n",
       "      <td>Metals</td>\n",
       "      <td>I</td>\n",
       "      <td>II</td>\n",
       "      <td>Male</td>\n",
       "      <td>Third Party</td>\n",
       "      <td>Chemical substances</td>\n",
       "      <td>At the moment the forklift operator went to ma...</td>\n",
       "    </tr>\n",
       "    <tr>\n",
       "      <th>10</th>\n",
       "      <td>10</td>\n",
       "      <td>2016-01-28 00:00:00</td>\n",
       "      <td>Country_01</td>\n",
       "      <td>Local_03</td>\n",
       "      <td>Mining</td>\n",
       "      <td>I</td>\n",
       "      <td>III</td>\n",
       "      <td>Male</td>\n",
       "      <td>Employee</td>\n",
       "      <td>Others</td>\n",
       "      <td>While installing a segment of the polyurethane...</td>\n",
       "    </tr>\n",
       "    <tr>\n",
       "      <th>11</th>\n",
       "      <td>11</td>\n",
       "      <td>2016-01-30 00:00:00</td>\n",
       "      <td>Country_01</td>\n",
       "      <td>Local_03</td>\n",
       "      <td>Mining</td>\n",
       "      <td>I</td>\n",
       "      <td>IV</td>\n",
       "      <td>Male</td>\n",
       "      <td>Third Party</td>\n",
       "      <td>Others</td>\n",
       "      <td>While preparing the rice for the lunch of the ...</td>\n",
       "    </tr>\n",
       "    <tr>\n",
       "      <th>12</th>\n",
       "      <td>12</td>\n",
       "      <td>2016-02-01 00:00:00</td>\n",
       "      <td>Country_02</td>\n",
       "      <td>Local_05</td>\n",
       "      <td>Metals</td>\n",
       "      <td>I</td>\n",
       "      <td>I</td>\n",
       "      <td>Male</td>\n",
       "      <td>Employee</td>\n",
       "      <td>Liquid Metal</td>\n",
       "      <td>The collaborator reports that he was working i...</td>\n",
       "    </tr>\n",
       "    <tr>\n",
       "      <th>13</th>\n",
       "      <td>13</td>\n",
       "      <td>2016-02-02 00:00:00</td>\n",
       "      <td>Country_01</td>\n",
       "      <td>Local_01</td>\n",
       "      <td>Mining</td>\n",
       "      <td>IV</td>\n",
       "      <td>V</td>\n",
       "      <td>Male</td>\n",
       "      <td>Third Party</td>\n",
       "      <td>Electrical installation</td>\n",
       "      <td>In moments that the operator of the Jumbo 2, t...</td>\n",
       "    </tr>\n",
       "    <tr>\n",
       "      <th>14</th>\n",
       "      <td>14</td>\n",
       "      <td>2016-02-04 00:00:00</td>\n",
       "      <td>Country_02</td>\n",
       "      <td>Local_05</td>\n",
       "      <td>Metals</td>\n",
       "      <td>I</td>\n",
       "      <td>III</td>\n",
       "      <td>Male</td>\n",
       "      <td>Employee</td>\n",
       "      <td>Confined space</td>\n",
       "      <td>Due to the accumulation of Waelz on the convey...</td>\n",
       "    </tr>\n",
       "    <tr>\n",
       "      <th>15</th>\n",
       "      <td>15</td>\n",
       "      <td>2016-02-04 00:00:00</td>\n",
       "      <td>Country_02</td>\n",
       "      <td>Local_05</td>\n",
       "      <td>Metals</td>\n",
       "      <td>I</td>\n",
       "      <td>IV</td>\n",
       "      <td>Male</td>\n",
       "      <td>Employee</td>\n",
       "      <td>Liquid Metal</td>\n",
       "      <td>The employee was working in the When a thermal...</td>\n",
       "    </tr>\n",
       "    <tr>\n",
       "      <th>16</th>\n",
       "      <td>16</td>\n",
       "      <td>2016-02-06 00:00:00</td>\n",
       "      <td>Country_01</td>\n",
       "      <td>Local_04</td>\n",
       "      <td>Mining</td>\n",
       "      <td>III</td>\n",
       "      <td>IV</td>\n",
       "      <td>Male</td>\n",
       "      <td>Third Party</td>\n",
       "      <td>Others</td>\n",
       "      <td>At Rp 050 of level 1620, in circumstances wher...</td>\n",
       "    </tr>\n",
       "    <tr>\n",
       "      <th>17</th>\n",
       "      <td>17</td>\n",
       "      <td>2016-02-07 00:00:00</td>\n",
       "      <td>Country_01</td>\n",
       "      <td>Local_06</td>\n",
       "      <td>Metals</td>\n",
       "      <td>I</td>\n",
       "      <td>II</td>\n",
       "      <td>Female</td>\n",
       "      <td>Third Party</td>\n",
       "      <td>Others</td>\n",
       "      <td>Due to the overheating of 2 bars in row 5 of c...</td>\n",
       "    </tr>\n",
       "    <tr>\n",
       "      <th>18</th>\n",
       "      <td>18</td>\n",
       "      <td>2016-02-08 00:00:00</td>\n",
       "      <td>Country_01</td>\n",
       "      <td>Local_06</td>\n",
       "      <td>Metals</td>\n",
       "      <td>I</td>\n",
       "      <td>II</td>\n",
       "      <td>Male</td>\n",
       "      <td>Employee</td>\n",
       "      <td>Others</td>\n",
       "      <td>An auxiliary wheel of the cathode crane G2133 ...</td>\n",
       "    </tr>\n",
       "    <tr>\n",
       "      <th>19</th>\n",
       "      <td>19</td>\n",
       "      <td>2016-02-21 00:00:00</td>\n",
       "      <td>Country_01</td>\n",
       "      <td>Local_06</td>\n",
       "      <td>Metals</td>\n",
       "      <td>I</td>\n",
       "      <td>III</td>\n",
       "      <td>Male</td>\n",
       "      <td>Employee</td>\n",
       "      <td>Others</td>\n",
       "      <td>The worker Manuel was making the disconnection...</td>\n",
       "    </tr>\n",
       "  </tbody>\n",
       "</table>\n",
       "</div>"
      ],
      "text/plain": [
       "    Unnamed: 0                 Data   Countries     Local Industry Sector  \\\n",
       "0            0  2016-01-01 00:00:00  Country_01  Local_01          Mining   \n",
       "1            1  2016-01-02 00:00:00  Country_02  Local_02          Mining   \n",
       "2            2  2016-01-06 00:00:00  Country_01  Local_03          Mining   \n",
       "3            3  2016-01-08 00:00:00  Country_01  Local_04          Mining   \n",
       "4            4  2016-01-10 00:00:00  Country_01  Local_04          Mining   \n",
       "5            5  2016-01-12 00:00:00  Country_02  Local_05          Metals   \n",
       "6            6  2016-01-16 00:00:00  Country_02  Local_05          Metals   \n",
       "7            7  2016-01-17 00:00:00  Country_01  Local_04          Mining   \n",
       "8            8  2016-01-19 00:00:00  Country_02  Local_02          Mining   \n",
       "9            9  2016-01-26 00:00:00  Country_01  Local_06          Metals   \n",
       "10          10  2016-01-28 00:00:00  Country_01  Local_03          Mining   \n",
       "11          11  2016-01-30 00:00:00  Country_01  Local_03          Mining   \n",
       "12          12  2016-02-01 00:00:00  Country_02  Local_05          Metals   \n",
       "13          13  2016-02-02 00:00:00  Country_01  Local_01          Mining   \n",
       "14          14  2016-02-04 00:00:00  Country_02  Local_05          Metals   \n",
       "15          15  2016-02-04 00:00:00  Country_02  Local_05          Metals   \n",
       "16          16  2016-02-06 00:00:00  Country_01  Local_04          Mining   \n",
       "17          17  2016-02-07 00:00:00  Country_01  Local_06          Metals   \n",
       "18          18  2016-02-08 00:00:00  Country_01  Local_06          Metals   \n",
       "19          19  2016-02-21 00:00:00  Country_01  Local_06          Metals   \n",
       "\n",
       "   Accident Level Potential Accident Level   Genre Employee or Third Party  \\\n",
       "0               I                       IV    Male             Third Party   \n",
       "1               I                       IV    Male                Employee   \n",
       "2               I                      III    Male    Third Party (Remote)   \n",
       "3               I                        I    Male             Third Party   \n",
       "4              IV                       IV    Male             Third Party   \n",
       "5               I                      III    Male    Third Party (Remote)   \n",
       "6               I                      III    Male                Employee   \n",
       "7               I                      III    Male             Third Party   \n",
       "8               I                       IV    Male    Third Party (Remote)   \n",
       "9               I                       II    Male             Third Party   \n",
       "10              I                      III    Male                Employee   \n",
       "11              I                       IV    Male             Third Party   \n",
       "12              I                        I    Male                Employee   \n",
       "13             IV                        V    Male             Third Party   \n",
       "14              I                      III    Male                Employee   \n",
       "15              I                       IV    Male                Employee   \n",
       "16            III                       IV    Male             Third Party   \n",
       "17              I                       II  Female             Third Party   \n",
       "18              I                       II    Male                Employee   \n",
       "19              I                      III    Male                Employee   \n",
       "\n",
       "                   Critical Risk  \\\n",
       "0                        Pressed   \n",
       "1            Pressurized Systems   \n",
       "2                   Manual Tools   \n",
       "3                         Others   \n",
       "4                         Others   \n",
       "5            Pressurized Systems   \n",
       "6   Fall prevention (same level)   \n",
       "7                        Pressed   \n",
       "8                         Others   \n",
       "9            Chemical substances   \n",
       "10                        Others   \n",
       "11                        Others   \n",
       "12                  Liquid Metal   \n",
       "13       Electrical installation   \n",
       "14                Confined space   \n",
       "15                  Liquid Metal   \n",
       "16                        Others   \n",
       "17                        Others   \n",
       "18                        Others   \n",
       "19                        Others   \n",
       "\n",
       "                                          Description  \n",
       "0   While removing the drill rod of the Jumbo 08 f...  \n",
       "1   During the activation of a sodium sulphide pum...  \n",
       "2   In the sub-station MILPO located at level +170...  \n",
       "3   Being 9:45 am. approximately in the Nv. 1880 C...  \n",
       "4   Approximately at 11:45 a.m. in circumstances t...  \n",
       "5   During the unloading operation of the ustulado...  \n",
       "6   The collaborator reports that he was on street...  \n",
       "7   At approximately 04:50 p.m., when the mechanic...  \n",
       "8   Employee was sitting in the resting area at le...  \n",
       "9   At the moment the forklift operator went to ma...  \n",
       "10  While installing a segment of the polyurethane...  \n",
       "11  While preparing the rice for the lunch of the ...  \n",
       "12  The collaborator reports that he was working i...  \n",
       "13  In moments that the operator of the Jumbo 2, t...  \n",
       "14  Due to the accumulation of Waelz on the convey...  \n",
       "15  The employee was working in the When a thermal...  \n",
       "16  At Rp 050 of level 1620, in circumstances wher...  \n",
       "17  Due to the overheating of 2 bars in row 5 of c...  \n",
       "18  An auxiliary wheel of the cathode crane G2133 ...  \n",
       "19  The worker Manuel was making the disconnection...  "
      ]
     },
     "execution_count": 27,
     "metadata": {},
     "output_type": "execute_result"
    }
   ],
   "source": [
    "df.head(20)"
   ]
  },
  {
   "cell_type": "code",
   "execution_count": 28,
   "id": "9fd74281-b3e4-4cb9-801b-96f8c5193071",
   "metadata": {},
   "outputs": [
    {
     "name": "stdout",
     "output_type": "stream",
     "text": [
      "<class 'pandas.core.frame.DataFrame'>\n",
      "RangeIndex: 425 entries, 0 to 424\n",
      "Data columns (total 11 columns):\n",
      " #   Column                    Non-Null Count  Dtype \n",
      "---  ------                    --------------  ----- \n",
      " 0   Unnamed: 0                425 non-null    int64 \n",
      " 1   Data                      425 non-null    object\n",
      " 2   Countries                 425 non-null    object\n",
      " 3   Local                     425 non-null    object\n",
      " 4   Industry Sector           425 non-null    object\n",
      " 5   Accident Level            425 non-null    object\n",
      " 6   Potential Accident Level  425 non-null    object\n",
      " 7   Genre                     425 non-null    object\n",
      " 8   Employee or Third Party   425 non-null    object\n",
      " 9   Critical Risk             425 non-null    object\n",
      " 10  Description               425 non-null    object\n",
      "dtypes: int64(1), object(10)\n",
      "memory usage: 36.7+ KB\n"
     ]
    }
   ],
   "source": [
    "df.info()"
   ]
  },
  {
   "cell_type": "code",
   "execution_count": 29,
   "id": "87ae3292-45fe-4882-9681-e248f3fad0d6",
   "metadata": {},
   "outputs": [
    {
     "data": {
      "text/plain": [
       "array(['Country_01', 'Country_02', 'Country_03'], dtype=object)"
      ]
     },
     "execution_count": 29,
     "metadata": {},
     "output_type": "execute_result"
    }
   ],
   "source": [
    "df['Countries'].unique()"
   ]
  },
  {
   "cell_type": "code",
   "execution_count": 30,
   "id": "4ce9c8ea-77ca-410c-aa0d-a65fa6e2c08d",
   "metadata": {},
   "outputs": [
    {
     "data": {
      "text/plain": [
       "array(['Mining', 'Metals', 'Others'], dtype=object)"
      ]
     },
     "execution_count": 30,
     "metadata": {},
     "output_type": "execute_result"
    }
   ],
   "source": [
    "df['Industry Sector'].unique()"
   ]
  },
  {
   "cell_type": "code",
   "execution_count": 31,
   "id": "ff633705-9fa8-4a70-9ff6-5f79969a5de4",
   "metadata": {},
   "outputs": [
    {
     "data": {
      "text/plain": [
       "287"
      ]
     },
     "execution_count": 31,
     "metadata": {},
     "output_type": "execute_result"
    }
   ],
   "source": [
    "len(df['Data'].unique())"
   ]
  },
  {
   "cell_type": "code",
   "execution_count": 32,
   "id": "b0ac0202-3040-4786-8355-e714effac70a",
   "metadata": {},
   "outputs": [
    {
     "data": {
      "text/plain": [
       "33"
      ]
     },
     "execution_count": 32,
     "metadata": {},
     "output_type": "execute_result"
    }
   ],
   "source": [
    "len(df['Critical Risk'].unique())"
   ]
  },
  {
   "cell_type": "code",
   "execution_count": 33,
   "id": "44771466-3d72-4844-b023-cc4be1fa53a8",
   "metadata": {},
   "outputs": [
    {
     "data": {
      "text/plain": [
       "array(['Pressed', 'Pressurized Systems', 'Manual Tools', 'Others',\n",
       "       'Fall prevention (same level)', 'Chemical substances',\n",
       "       'Liquid Metal', 'Electrical installation', 'Confined space',\n",
       "       'Pressurized Systems / Chemical Substances',\n",
       "       'Blocking and isolation of energies', 'Suspended Loads', 'Poll',\n",
       "       'Cut', 'Fall', 'Bees', 'Fall prevention', '\\nNot applicable',\n",
       "       'Traffic', 'Projection', 'Venomous Animals', 'Plates',\n",
       "       'Projection/Burning', 'remains of choco',\n",
       "       'Vehicles and Mobile Equipment', 'Projection/Choco',\n",
       "       'Machine Protection', 'Power lock', 'Burn',\n",
       "       'Projection/Manual Tools', 'Individual protection equipment',\n",
       "       'Electrical Shock', 'Projection of fragments'], dtype=object)"
      ]
     },
     "execution_count": 33,
     "metadata": {},
     "output_type": "execute_result"
    }
   ],
   "source": [
    "df['Critical Risk'].unique()"
   ]
  },
  {
   "cell_type": "code",
   "execution_count": 34,
   "id": "0aae6e71-e5d5-44fe-a0ca-f1177ecf807a",
   "metadata": {},
   "outputs": [
    {
     "data": {
      "image/png": "[encoded data removed]",
      "text/plain": [
       "<Figure size 1400x400 with 3 Axes>"
      ]
     },
     "metadata": {},
     "output_type": "display_data"
    }
   ],
   "source": [
    "plt.figure(figsize=(14,4))\n",
    "\n",
    "sns.set_theme(style = 'whitegrid', palette='pastel')\n",
    "\n",
    "\n",
    "ax1 = plt.subplot(1,3,1)\n",
    "sns.countplot(data=df, x='Countries', hue='Countries')\n",
    "\n",
    "ax2 = plt.subplot(132, sharey=ax1)\n",
    "sns.countplot(data=df, x='Accident Level', hue='Accident Level', legend=None)\n",
    "plt.title('Accident count by Country, Accident Level and Industry Sector')\n",
    "\n",
    "ax3 = plt.subplot(133, sharey=ax1)\n",
    "sns.countplot(data=df, x='Industry Sector', hue='Industry Sector');"
   ]
  },
  {
   "cell_type": "code",
   "execution_count": 35,
   "id": "a1dec810-5846-453d-b47a-2263f07bf572",
   "metadata": {},
   "outputs": [
    {
     "data": {
      "image/png": "[encoded data removed]",
      "text/plain": [
       "<Figure size 1400x400 with 2 Axes>"
      ]
     },
     "metadata": {},
     "output_type": "display_data"
    }
   ],
   "source": [
    "plt.figure(figsize=(14,4))\n",
    "\n",
    "sns.set_theme(style = 'whitegrid', palette='pastel')\n",
    "\n",
    "axe1 = plt.subplot(1,2,1)\n",
    "sns.countplot(data=df, x='Genre', hue='Genre')\n",
    "\n",
    "axe2 = plt.subplot(122, sharey=axe1)\n",
    "sns.countplot(data=df, x='Employee or Third Party', hue='Employee or Third Party', legend=None);"
   ]
  },
  {
   "cell_type": "code",
   "execution_count": 36,
   "id": "cd55d97a-4c57-447c-b76f-ae7a5def63f3",
   "metadata": {},
   "outputs": [],
   "source": [
    "df_plevel1  = df[df['Potential Accident Level'] == 'I']\n",
    "df_plevel2 = df[df['Potential Accident Level'] == 'II']\n",
    "df_plevel3 = df [df['Potential Accident Level'] == 'III']\n",
    "df_plevel4 = df[df['Potential Accident Level'] == 'IV']\n",
    "df_plevel5 = df[df['Potential Accident Level'] == 'V']\n",
    "\n",
    "df_level1 = df[df['Accident Level'] == 'I']\n",
    "df_level2 = df[df['Accident Level'] == 'II']\n",
    "df_level3 = df[df['Accident Level'] == 'III']\n",
    "df_level4 = df[df['Accident Level'] == 'IV']\n",
    "df_level5 = df[df['Accident Level'] == 'V']"
   ]
  },
  {
   "cell_type": "code",
   "execution_count": 37,
   "id": "4e66605d-ec6d-4e9d-948d-8a4e85f2238c",
   "metadata": {},
   "outputs": [
    {
     "data": {
      "text/plain": [
       "<matplotlib.legend.Legend at 0x1bfd2c6bed0>"
      ]
     },
     "execution_count": 37,
     "metadata": {},
     "output_type": "execute_result"
    },
    {
     "data": {
      "image/png": "[encoded data removed]",
      "text/plain": [
       "<Figure size 1200x500 with 1 Axes>"
      ]
     },
     "metadata": {},
     "output_type": "display_data"
    }
   ],
   "source": [
    "level1 = len(df_level1)\n",
    "level2 = len(df_level2)\n",
    "level3 = len(df_level3)\n",
    "level4 = len(df_level4)\n",
    "level5 = len(df_level5)\n",
    "\n",
    "y_vals = [level1, level2, level3, level4, level5]\n",
    "x_vals = range(1,6)\n",
    "\n",
    "\n",
    "plevel_1 = len(df_plevel1)\n",
    "plevel_2 = len(df_plevel2)\n",
    "plevel_3 = len(df_plevel3)\n",
    "plevel_4 = len(df_plevel4)\n",
    "plevel_5 = len(df_plevel5)\n",
    "\n",
    "px_vals = []\n",
    "py_vals = [plevel_1, plevel_2, plevel_3, plevel_4, plevel_5]\n",
    "for item in x_vals:\n",
    "    px_vals.append(item+0.3)\n",
    "\n",
    "\n",
    "plt.figure(figsize=(12,5))\n",
    "plt.bar(x_vals, y_vals, width=0.3, label='Accident Level')\n",
    "plt.bar(px_vals, py_vals, width=0.3, color='y', label='Potential Accident Level');\n",
    "\n",
    "plt.ylabel('Number of Accidents')\n",
    "plt.xlabel('Accident Level')\n",
    "plt.title('Number of Accidents by Accident level\\n& Potential Accident Level');\n",
    "plt.legend(loc=0)\n",
    "\n",
    "#to insert legend and axes labels"
   ]
  },
  {
   "cell_type": "code",
   "execution_count": 38,
   "id": "68d30df8-7220-42e6-97f6-f9be59c08147",
   "metadata": {},
   "outputs": [
    {
     "data": {
      "image/png": "[encoded data removed]",
      "text/plain": [
       "<Figure size 1400x500 with 1 Axes>"
      ]
     },
     "metadata": {},
     "output_type": "display_data"
    }
   ],
   "source": [
    "plt.figure(figsize=(14,5))\n",
    "sns.set_theme(style = 'whitegrid', palette='pastel')\n",
    "sns.countplot(data=df, x='Local', hue='Local');\n",
    "plt.title('Number of Accidents by City');"
   ]
  },
  {
   "cell_type": "code",
   "execution_count": 39,
   "id": "7298ad60-0fb4-4066-b34d-7599b6f1a60c",
   "metadata": {
    "scrolled": true
   },
   "outputs": [
    {
     "data": {
      "text/html": [
       "<div>\n",
       "<style scoped>\n",
       "    .dataframe tbody tr th:only-of-type {\n",
       "        vertical-align: middle;\n",
       "    }\n",
       "\n",
       "    .dataframe tbody tr th {\n",
       "        vertical-align: top;\n",
       "    }\n",
       "\n",
       "    .dataframe thead th {\n",
       "        text-align: right;\n",
       "    }\n",
       "</style>\n",
       "<table border=\"1\" class=\"dataframe\">\n",
       "  <thead>\n",
       "    <tr style=\"text-align: right;\">\n",
       "      <th></th>\n",
       "      <th>Unnamed: 0</th>\n",
       "      <th>Data</th>\n",
       "      <th>Countries</th>\n",
       "      <th>Local</th>\n",
       "      <th>Industry Sector</th>\n",
       "      <th>Accident Level</th>\n",
       "      <th>Potential Accident Level</th>\n",
       "      <th>Genre</th>\n",
       "      <th>Employee or Third Party</th>\n",
       "      <th>Critical Risk</th>\n",
       "      <th>Description</th>\n",
       "    </tr>\n",
       "  </thead>\n",
       "  <tbody>\n",
       "    <tr>\n",
       "      <th>0</th>\n",
       "      <td>0</td>\n",
       "      <td>2016-01-01 00:00:00</td>\n",
       "      <td>Country_01</td>\n",
       "      <td>Local_01</td>\n",
       "      <td>Mining</td>\n",
       "      <td>1</td>\n",
       "      <td>IV</td>\n",
       "      <td>Male</td>\n",
       "      <td>Third Party</td>\n",
       "      <td>Pressed</td>\n",
       "      <td>While removing the drill rod of the Jumbo 08 f...</td>\n",
       "    </tr>\n",
       "    <tr>\n",
       "      <th>1</th>\n",
       "      <td>1</td>\n",
       "      <td>2016-01-02 00:00:00</td>\n",
       "      <td>Country_02</td>\n",
       "      <td>Local_02</td>\n",
       "      <td>Mining</td>\n",
       "      <td>1</td>\n",
       "      <td>IV</td>\n",
       "      <td>Male</td>\n",
       "      <td>Employee</td>\n",
       "      <td>Pressurized Systems</td>\n",
       "      <td>During the activation of a sodium sulphide pum...</td>\n",
       "    </tr>\n",
       "    <tr>\n",
       "      <th>2</th>\n",
       "      <td>2</td>\n",
       "      <td>2016-01-06 00:00:00</td>\n",
       "      <td>Country_01</td>\n",
       "      <td>Local_03</td>\n",
       "      <td>Mining</td>\n",
       "      <td>1</td>\n",
       "      <td>III</td>\n",
       "      <td>Male</td>\n",
       "      <td>Third Party (Remote)</td>\n",
       "      <td>Manual Tools</td>\n",
       "      <td>In the sub-station MILPO located at level +170...</td>\n",
       "    </tr>\n",
       "    <tr>\n",
       "      <th>3</th>\n",
       "      <td>3</td>\n",
       "      <td>2016-01-08 00:00:00</td>\n",
       "      <td>Country_01</td>\n",
       "      <td>Local_04</td>\n",
       "      <td>Mining</td>\n",
       "      <td>1</td>\n",
       "      <td>I</td>\n",
       "      <td>Male</td>\n",
       "      <td>Third Party</td>\n",
       "      <td>Others</td>\n",
       "      <td>Being 9:45 am. approximately in the Nv. 1880 C...</td>\n",
       "    </tr>\n",
       "    <tr>\n",
       "      <th>4</th>\n",
       "      <td>4</td>\n",
       "      <td>2016-01-10 00:00:00</td>\n",
       "      <td>Country_01</td>\n",
       "      <td>Local_04</td>\n",
       "      <td>Mining</td>\n",
       "      <td>4</td>\n",
       "      <td>IV</td>\n",
       "      <td>Male</td>\n",
       "      <td>Third Party</td>\n",
       "      <td>Others</td>\n",
       "      <td>Approximately at 11:45 a.m. in circumstances t...</td>\n",
       "    </tr>\n",
       "  </tbody>\n",
       "</table>\n",
       "</div>"
      ],
      "text/plain": [
       "   Unnamed: 0                 Data   Countries     Local Industry Sector  \\\n",
       "0           0  2016-01-01 00:00:00  Country_01  Local_01          Mining   \n",
       "1           1  2016-01-02 00:00:00  Country_02  Local_02          Mining   \n",
       "2           2  2016-01-06 00:00:00  Country_01  Local_03          Mining   \n",
       "3           3  2016-01-08 00:00:00  Country_01  Local_04          Mining   \n",
       "4           4  2016-01-10 00:00:00  Country_01  Local_04          Mining   \n",
       "\n",
       "  Accident Level Potential Accident Level Genre Employee or Third Party  \\\n",
       "0              1                       IV  Male             Third Party   \n",
       "1              1                       IV  Male                Employee   \n",
       "2              1                      III  Male    Third Party (Remote)   \n",
       "3              1                        I  Male             Third Party   \n",
       "4              4                       IV  Male             Third Party   \n",
       "\n",
       "         Critical Risk                                        Description  \n",
       "0              Pressed  While removing the drill rod of the Jumbo 08 f...  \n",
       "1  Pressurized Systems  During the activation of a sodium sulphide pum...  \n",
       "2         Manual Tools  In the sub-station MILPO located at level +170...  \n",
       "3               Others  Being 9:45 am. approximately in the Nv. 1880 C...  \n",
       "4               Others  Approximately at 11:45 a.m. in circumstances t...  "
      ]
     },
     "execution_count": 39,
     "metadata": {},
     "output_type": "execute_result"
    }
   ],
   "source": [
    "for x in df['Accident Level']:\n",
    "    if x == 'I':\n",
    "        df['Accident Level'] = df['Accident Level'].replace('I', '1')\n",
    "    if x == 'II':\n",
    "        df['Accident Level'] = df['Accident Level'].replace('II', '2')\n",
    "    if x == 'III':\n",
    "        df['Accident Level'] = df['Accident Level'].replace('III', '3')\n",
    "    if x == 'IV':\n",
    "        df['Accident Level'] = df['Accident Level'].replace('IV', '4')\n",
    "    else:\n",
    "        df['Accident Level'] = df['Accident Level'].replace('V', '5')\n",
    "\n",
    "\n",
    "df.head()"
   ]
  },
  {
   "cell_type": "raw",
   "id": "493c17c2-4ddc-45ba-a619-4226ca977a04",
   "metadata": {},
   "source": [
    "HOW ARE HIGH LEVEL ACCIDENTS DISTRIBUTED?"
   ]
  },
  {
   "cell_type": "code",
   "execution_count": 40,
   "id": "ae032b3e-6403-4a90-ac62-538bee19ca27",
   "metadata": {},
   "outputs": [
    {
     "data": {
      "text/plain": [
       "dtype('int64')"
      ]
     },
     "execution_count": 40,
     "metadata": {},
     "output_type": "execute_result"
    }
   ],
   "source": [
    "df = df.astype({'Accident Level': int})\n",
    "df['Accident Level'].dtype"
   ]
  },
  {
   "cell_type": "code",
   "execution_count": 41,
   "id": "bac4f304-3f09-4343-ba90-88df98044235",
   "metadata": {},
   "outputs": [
    {
     "data": {
      "text/html": [
       "<div>\n",
       "<style scoped>\n",
       "    .dataframe tbody tr th:only-of-type {\n",
       "        vertical-align: middle;\n",
       "    }\n",
       "\n",
       "    .dataframe tbody tr th {\n",
       "        vertical-align: top;\n",
       "    }\n",
       "\n",
       "    .dataframe thead th {\n",
       "        text-align: right;\n",
       "    }\n",
       "</style>\n",
       "<table border=\"1\" class=\"dataframe\">\n",
       "  <thead>\n",
       "    <tr style=\"text-align: right;\">\n",
       "      <th></th>\n",
       "      <th>Unnamed: 0</th>\n",
       "      <th>Data</th>\n",
       "      <th>Countries</th>\n",
       "      <th>Local</th>\n",
       "      <th>Industry Sector</th>\n",
       "      <th>Accident Level</th>\n",
       "      <th>Potential Accident Level</th>\n",
       "      <th>Genre</th>\n",
       "      <th>Employee or Third Party</th>\n",
       "      <th>Critical Risk</th>\n",
       "      <th>Description</th>\n",
       "    </tr>\n",
       "  </thead>\n",
       "  <tbody>\n",
       "    <tr>\n",
       "      <th>4</th>\n",
       "      <td>4</td>\n",
       "      <td>2016-01-10 00:00:00</td>\n",
       "      <td>Country_01</td>\n",
       "      <td>Local_04</td>\n",
       "      <td>Mining</td>\n",
       "      <td>4</td>\n",
       "      <td>IV</td>\n",
       "      <td>Male</td>\n",
       "      <td>Third Party</td>\n",
       "      <td>Others</td>\n",
       "      <td>Approximately at 11:45 a.m. in circumstances t...</td>\n",
       "    </tr>\n",
       "    <tr>\n",
       "      <th>13</th>\n",
       "      <td>13</td>\n",
       "      <td>2016-02-02 00:00:00</td>\n",
       "      <td>Country_01</td>\n",
       "      <td>Local_01</td>\n",
       "      <td>Mining</td>\n",
       "      <td>4</td>\n",
       "      <td>V</td>\n",
       "      <td>Male</td>\n",
       "      <td>Third Party</td>\n",
       "      <td>Electrical installation</td>\n",
       "      <td>In moments that the operator of the Jumbo 2, t...</td>\n",
       "    </tr>\n",
       "    <tr>\n",
       "      <th>16</th>\n",
       "      <td>16</td>\n",
       "      <td>2016-02-06 00:00:00</td>\n",
       "      <td>Country_01</td>\n",
       "      <td>Local_04</td>\n",
       "      <td>Mining</td>\n",
       "      <td>3</td>\n",
       "      <td>IV</td>\n",
       "      <td>Male</td>\n",
       "      <td>Third Party</td>\n",
       "      <td>Others</td>\n",
       "      <td>At Rp 050 of level 1620, in circumstances wher...</td>\n",
       "    </tr>\n",
       "    <tr>\n",
       "      <th>32</th>\n",
       "      <td>32</td>\n",
       "      <td>2016-02-21 00:00:00</td>\n",
       "      <td>Country_01</td>\n",
       "      <td>Local_01</td>\n",
       "      <td>Mining</td>\n",
       "      <td>3</td>\n",
       "      <td>IV</td>\n",
       "      <td>Male</td>\n",
       "      <td>Third Party</td>\n",
       "      <td>Others</td>\n",
       "      <td>The worker Yaranga while working with barretil...</td>\n",
       "    </tr>\n",
       "    <tr>\n",
       "      <th>33</th>\n",
       "      <td>33</td>\n",
       "      <td>2016-02-20 00:00:00</td>\n",
       "      <td>Country_01</td>\n",
       "      <td>Local_04</td>\n",
       "      <td>Mining</td>\n",
       "      <td>5</td>\n",
       "      <td>V</td>\n",
       "      <td>Male</td>\n",
       "      <td>Third Party</td>\n",
       "      <td>Others</td>\n",
       "      <td>Approximately 1:40 p.m. in circumstances that ...</td>\n",
       "    </tr>\n",
       "  </tbody>\n",
       "</table>\n",
       "</div>"
      ],
      "text/plain": [
       "    Unnamed: 0                 Data   Countries     Local Industry Sector  \\\n",
       "4            4  2016-01-10 00:00:00  Country_01  Local_04          Mining   \n",
       "13          13  2016-02-02 00:00:00  Country_01  Local_01          Mining   \n",
       "16          16  2016-02-06 00:00:00  Country_01  Local_04          Mining   \n",
       "32          32  2016-02-21 00:00:00  Country_01  Local_01          Mining   \n",
       "33          33  2016-02-20 00:00:00  Country_01  Local_04          Mining   \n",
       "\n",
       "    Accident Level Potential Accident Level Genre Employee or Third Party  \\\n",
       "4                4                       IV  Male             Third Party   \n",
       "13               4                        V  Male             Third Party   \n",
       "16               3                       IV  Male             Third Party   \n",
       "32               3                       IV  Male             Third Party   \n",
       "33               5                        V  Male             Third Party   \n",
       "\n",
       "              Critical Risk                                        Description  \n",
       "4                    Others  Approximately at 11:45 a.m. in circumstances t...  \n",
       "13  Electrical installation  In moments that the operator of the Jumbo 2, t...  \n",
       "16                   Others  At Rp 050 of level 1620, in circumstances wher...  \n",
       "32                   Others  The worker Yaranga while working with barretil...  \n",
       "33                   Others  Approximately 1:40 p.m. in circumstances that ...  "
      ]
     },
     "execution_count": 41,
     "metadata": {},
     "output_type": "execute_result"
    }
   ],
   "source": [
    "high_level_df = df[df['Accident Level'] > 2]\n",
    "high_level_df.head()"
   ]
  },
  {
   "cell_type": "code",
   "execution_count": 42,
   "id": "d4387c10-2b2f-46f5-a1fd-0ea0d4336f7d",
   "metadata": {},
   "outputs": [
    {
     "data": {
      "image/png": "[encoded data removed]",
      "text/plain": [
       "<Figure size 1400x300 with 2 Axes>"
      ]
     },
     "metadata": {},
     "output_type": "display_data"
    }
   ],
   "source": [
    "plt.figure(figsize=(14,3))\n",
    "custom_params = {\"axes.spines.right\": False, \"axes.spines.top\": False}\n",
    "sns.set_theme(style='ticks', rc=custom_params, palette='pastel')\n",
    "plt.subplot(121)\n",
    "sns.swarmplot(data=high_level_df, x='Countries', y='Accident Level', hue='Countries', s=4.5, legend=False)\n",
    "plt.subplot(122)\n",
    "sns.swarmplot(data=high_level_df, x='Industry Sector', y='Accident Level', hue='Industry Sector', s=4.5, legend=False);"
   ]
  },
  {
   "cell_type": "markdown",
   "id": "8eda0062-afb0-438b-9364-e9b5966450c5",
   "metadata": {},
   "source": [
    "EDA SUMMARY\n",
    "\n",
    "1. Most accidents are occuring in Country_01, the mining industry and cities: Local 3,5,1 & 4. More serious accidents follow the same distribution\n",
    "as well for countries and industry sectors.\n",
    "- More safety training, Personal Protective Equipment and other procedural safeguards can be employed to curb these accident occurances.\n",
    "\n",
    "2. Males, expectedly, are involved in accidents more than women given the gender distributions in the industry sectors.\n",
    "\n",
    "3. Third party individuals seem to get injured more that fulltime employees, indicating need for rigorous safeguards for thrid parties\n",
    "when they are on site or even limiting entrance onto worksites for third parties where possible.\n",
    "\n",
    "4. Level 1 accidents are clearly the most prevalent and level 5 accidents occur the least. However, the Potential Accident Level seems to increase\n",
    "with increase in level."
   ]
  },
  {
   "cell_type": "raw",
   "id": "d7a4cbd7-3229-44b1-985b-d56531e7d1d0",
   "metadata": {},
   "source": [
    "DATE-TIME BASED EDA##"
   ]
  },
  {
   "cell_type": "code",
   "execution_count": 43,
   "id": "33e5eddd-9e5e-4c23-9fcf-06e735773610",
   "metadata": {
    "scrolled": true
   },
   "outputs": [
    {
     "data": {
      "text/html": [
       "<div>\n",
       "<style scoped>\n",
       "    .dataframe tbody tr th:only-of-type {\n",
       "        vertical-align: middle;\n",
       "    }\n",
       "\n",
       "    .dataframe tbody tr th {\n",
       "        vertical-align: top;\n",
       "    }\n",
       "\n",
       "    .dataframe thead th {\n",
       "        text-align: right;\n",
       "    }\n",
       "</style>\n",
       "<table border=\"1\" class=\"dataframe\">\n",
       "  <thead>\n",
       "    <tr style=\"text-align: right;\">\n",
       "      <th></th>\n",
       "      <th>Data</th>\n",
       "      <th>Countries</th>\n",
       "      <th>Local</th>\n",
       "      <th>Industry Sector</th>\n",
       "      <th>Accident Level</th>\n",
       "      <th>Potential Accident Level</th>\n",
       "      <th>Genre</th>\n",
       "      <th>Employee or Third Party</th>\n",
       "      <th>Critical Risk</th>\n",
       "      <th>Description</th>\n",
       "      <th>Month</th>\n",
       "      <th>Day of week</th>\n",
       "      <th>Count</th>\n",
       "    </tr>\n",
       "  </thead>\n",
       "  <tbody>\n",
       "    <tr>\n",
       "      <th>0</th>\n",
       "      <td>2016-01-01</td>\n",
       "      <td>Country_01</td>\n",
       "      <td>Local_01</td>\n",
       "      <td>Mining</td>\n",
       "      <td>1</td>\n",
       "      <td>IV</td>\n",
       "      <td>Male</td>\n",
       "      <td>Third Party</td>\n",
       "      <td>Pressed</td>\n",
       "      <td>While removing the drill rod of the Jumbo 08 f...</td>\n",
       "      <td>1</td>\n",
       "      <td>4</td>\n",
       "      <td>1</td>\n",
       "    </tr>\n",
       "    <tr>\n",
       "      <th>1</th>\n",
       "      <td>2016-01-02</td>\n",
       "      <td>Country_02</td>\n",
       "      <td>Local_02</td>\n",
       "      <td>Mining</td>\n",
       "      <td>1</td>\n",
       "      <td>IV</td>\n",
       "      <td>Male</td>\n",
       "      <td>Employee</td>\n",
       "      <td>Pressurized Systems</td>\n",
       "      <td>During the activation of a sodium sulphide pum...</td>\n",
       "      <td>1</td>\n",
       "      <td>5</td>\n",
       "      <td>1</td>\n",
       "    </tr>\n",
       "    <tr>\n",
       "      <th>2</th>\n",
       "      <td>2016-01-06</td>\n",
       "      <td>Country_01</td>\n",
       "      <td>Local_03</td>\n",
       "      <td>Mining</td>\n",
       "      <td>1</td>\n",
       "      <td>III</td>\n",
       "      <td>Male</td>\n",
       "      <td>Third Party (Remote)</td>\n",
       "      <td>Manual Tools</td>\n",
       "      <td>In the sub-station MILPO located at level +170...</td>\n",
       "      <td>1</td>\n",
       "      <td>2</td>\n",
       "      <td>1</td>\n",
       "    </tr>\n",
       "    <tr>\n",
       "      <th>3</th>\n",
       "      <td>2016-01-08</td>\n",
       "      <td>Country_01</td>\n",
       "      <td>Local_04</td>\n",
       "      <td>Mining</td>\n",
       "      <td>1</td>\n",
       "      <td>I</td>\n",
       "      <td>Male</td>\n",
       "      <td>Third Party</td>\n",
       "      <td>Others</td>\n",
       "      <td>Being 9:45 am. approximately in the Nv. 1880 C...</td>\n",
       "      <td>1</td>\n",
       "      <td>4</td>\n",
       "      <td>1</td>\n",
       "    </tr>\n",
       "    <tr>\n",
       "      <th>4</th>\n",
       "      <td>2016-01-10</td>\n",
       "      <td>Country_01</td>\n",
       "      <td>Local_04</td>\n",
       "      <td>Mining</td>\n",
       "      <td>4</td>\n",
       "      <td>IV</td>\n",
       "      <td>Male</td>\n",
       "      <td>Third Party</td>\n",
       "      <td>Others</td>\n",
       "      <td>Approximately at 11:45 a.m. in circumstances t...</td>\n",
       "      <td>1</td>\n",
       "      <td>6</td>\n",
       "      <td>1</td>\n",
       "    </tr>\n",
       "  </tbody>\n",
       "</table>\n",
       "</div>"
      ],
      "text/plain": [
       "        Data   Countries     Local Industry Sector  Accident Level  \\\n",
       "0 2016-01-01  Country_01  Local_01          Mining               1   \n",
       "1 2016-01-02  Country_02  Local_02          Mining               1   \n",
       "2 2016-01-06  Country_01  Local_03          Mining               1   \n",
       "3 2016-01-08  Country_01  Local_04          Mining               1   \n",
       "4 2016-01-10  Country_01  Local_04          Mining               4   \n",
       "\n",
       "  Potential Accident Level Genre Employee or Third Party        Critical Risk  \\\n",
       "0                       IV  Male             Third Party              Pressed   \n",
       "1                       IV  Male                Employee  Pressurized Systems   \n",
       "2                      III  Male    Third Party (Remote)         Manual Tools   \n",
       "3                        I  Male             Third Party               Others   \n",
       "4                       IV  Male             Third Party               Others   \n",
       "\n",
       "                                         Description  Month  Day of week  \\\n",
       "0  While removing the drill rod of the Jumbo 08 f...      1            4   \n",
       "1  During the activation of a sodium sulphide pum...      1            5   \n",
       "2  In the sub-station MILPO located at level +170...      1            2   \n",
       "3  Being 9:45 am. approximately in the Nv. 1880 C...      1            4   \n",
       "4  Approximately at 11:45 a.m. in circumstances t...      1            6   \n",
       "\n",
       "   Count  \n",
       "0      1  \n",
       "1      1  \n",
       "2      1  \n",
       "3      1  \n",
       "4      1  "
      ]
     },
     "execution_count": 43,
     "metadata": {},
     "output_type": "execute_result"
    }
   ],
   "source": [
    "df['Data'] = pd.to_datetime(df['Data'])\n",
    "df = df.drop('Unnamed: 0', axis=1)\n",
    "df['Month'] = df['Data'].dt.month\n",
    "df['Day of week'] = df['Data'].dt.dayofweek\n",
    "df['Count'] = 1\n",
    "df.head()"
   ]
  },
  {
   "cell_type": "code",
   "execution_count": 44,
   "id": "fbf5b824-a3af-4e6d-b332-184e16661e45",
   "metadata": {},
   "outputs": [
    {
     "data": {
      "image/png": "[encoded data removed]",
      "text/plain": [
       "<Figure size 800x600 with 1 Axes>"
      ]
     },
     "metadata": {},
     "output_type": "display_data"
    }
   ],
   "source": [
    "days = ['Monday', 'Tuesday', 'Wednesday', 'Thursday', 'Friday', 'Saturday', 'Sunday']\n",
    "months = ['Jan', 'Feb', 'Mar', 'Apr', 'May', 'Jun', 'Jul', 'Aug', 'Sep', 'Oct', 'Nov', 'Dec']\n",
    "plt.figure(figsize=(8,6))\n",
    "plt.hist(df['Day of week'], bins=[0, 1, 2, 3, 4, 5, 6, 7], weights=df['Count'], alpha=0.8);\n",
    "plt.xticks(range(7), days, alpha=0.9);\n",
    "plt.ylabel('Number of Accidents');\n",
    "plt.title('Frequency of accidents per week');"
   ]
  },
  {
   "cell_type": "markdown",
   "id": "97e495b0-ba61-4b77-b1c7-c656e47686de",
   "metadata": {},
   "source": [
    "IT APPEARS MOST ACCIDENTS OCCUR IN THE MIDDLE OF THE WEEK, WITH THURSDAY HAVING THE HIGHEST COUNT."
   ]
  },
  {
   "cell_type": "code",
   "execution_count": 45,
   "id": "1816e3de-3f65-4f5c-9c7d-c561c3a78544",
   "metadata": {},
   "outputs": [
    {
     "data": {
      "image/png": "[encoded data removed]",
      "text/plain": [
       "<Figure size 800x600 with 1 Axes>"
      ]
     },
     "metadata": {},
     "output_type": "display_data"
    }
   ],
   "source": [
    "plt.figure(figsize=(8,6))\n",
    "months2 = ['0', 'Jan', 'Feb', 'Mar', 'Apr', 'May', 'Jun', 'Jul', 'Aug', 'Sep', 'Oct', 'Nov', 'Dec']\n",
    "plt.hist(df['Month'], bins=[1,2,3,4,5,6,7,8,9,10,11,12,13], weights=df['Count'], alpha=0.9);\n",
    "plt.xticks(range(13), months2, alpha=0.9);\n",
    "plt.ylabel('Number of Accidents');\n",
    "plt.title('Frequency of Accidents per Month', alpha=0.9);\n"
   ]
  },
  {
   "cell_type": "markdown",
   "id": "af0dc0b8-ff06-4bc0-9daa-b49324b1da69",
   "metadata": {},
   "source": [
    "MOST ACCIDENTS SEEM TO OCCUR IN THE FIRST HALF OF THE YEAR, WITH FEBRUARY BEING THE WORST HIT MONTH.\n",
    "SINCE THE COUNTRIES ARE ANONYMIZED, WE DO NOT KNOW FOR SURE HOW THE SEASONS ARE DISTRIBUTED, BUT WEATHER MAY BE PLAYING A BIG ROLE HERE."
   ]
  },
  {
   "cell_type": "code",
   "execution_count": 46,
   "id": "89f1f355-ca2b-40f4-b3fa-2ef2e45f94bb",
   "metadata": {},
   "outputs": [
    {
     "data": {
      "image/png": "[encoded data removed]",
      "text/plain": [
       "<Figure size 800x800 with 2 Axes>"
      ]
     },
     "metadata": {},
     "output_type": "display_data"
    }
   ],
   "source": [
    "plt.figure(figsize=(8,8))\n",
    "\n",
    "plt.hist2d(df['Day of week'], df['Month'], bins = [[0,1,2,3,4,5,6,7], [1,2,3,4,5,6,7,8,9,10,11,12,13]], weights=df['Count'], cmap='viridis')\n",
    "plt.colorbar()\n",
    "plt.xticks(range(7), days, alpha=0.9)\n",
    "plt.yticks(range(13), range(13))\n",
    "\n",
    "ax = plt.gca()\n",
    "\n",
    "ax.set_ylabel('Month');\n"
   ]
  },
  {
   "cell_type": "markdown",
   "id": "9fef4936-66a5-4877-9a13-08159d83737d",
   "metadata": {},
   "source": [
    "WEDENESDAYS IN MARCH APPEAR TO BE THE WORST DAYS AS THE MOST ACCIDENTS HAVE OCCURED ON THOSE DAYS FOR THIS PARTICULAR DATASET."
   ]
  },
  {
   "cell_type": "raw",
   "id": "da93788c-f919-41eb-ba33-359e6b8791f7",
   "metadata": {},
   "source": [
    "NATURAL LANGUAGE PROCESSING##"
   ]
  },
  {
   "cell_type": "code",
   "execution_count": 47,
   "id": "e410a9d6-e0e5-428d-92f8-6d481f2b92bb",
   "metadata": {},
   "outputs": [],
   "source": [
    "X_train, X_test, y_train, y_test = train_test_split(df['Description'], df['Accident Level'], random_state=0, stratify=df['Accident Level'])"
   ]
  },
  {
   "cell_type": "code",
   "execution_count": 48,
   "id": "239a1cbf-1626-4212-92e1-f7227817c97d",
   "metadata": {},
   "outputs": [],
   "source": [
    "tvect = TfidfVectorizer().fit(df['Description'])"
   ]
  },
  {
   "cell_type": "code",
   "execution_count": 49,
   "id": "42723ad9-e795-425b-b5a5-a7d52d491636",
   "metadata": {},
   "outputs": [
    {
     "data": {
      "text/plain": [
       "array(['00', '001', '007', ..., 'zinco', 'zn', 'zone'],\n",
       "      shape=(3395,), dtype=object)"
      ]
     },
     "execution_count": 49,
     "metadata": {},
     "output_type": "execute_result"
    }
   ],
   "source": [
    "description_transformed = tvect.transform(df['Description'])\n",
    "feat_names = tvect.get_feature_names_out()\n",
    "feat_names"
   ]
  },
  {
   "cell_type": "code",
   "execution_count": 50,
   "id": "93405047-b20e-4806-9a82-d38d3952e1e6",
   "metadata": {},
   "outputs": [],
   "source": [
    "sorted_tfidfs_indexes = description_transformed.max(0).toarray()[0].argsort()"
   ]
  },
  {
   "cell_type": "code",
   "execution_count": 51,
   "id": "0fd14346-5d9f-4dee-88ce-7b2c76eae04d",
   "metadata": {},
   "outputs": [
    {
     "name": "stdout",
     "output_type": "stream",
     "text": [
      "the smallest tfidf are:\n",
      "\n",
      " ['firmly' 'faucet' 'sutured' 'entire' 'monkey' 'composition' 'effective'\n",
      " 'done' 'chestnut' 'inefficacy']\n",
      "\n",
      "\n",
      "the largest tfidf are:\n",
      "\n",
      " ['probe' 'drawer' 'car' 'pieces' 'torch' 'bar' 'cabinet' 'beam' 'sample'\n",
      " 'ripper']\n"
     ]
    }
   ],
   "source": [
    "print('the smallest tfidf are:\\n\\n', feat_names[sorted_tfidfs_indexes[:10]])\n",
    "print('\\n\\nthe largest tfidf are:\\n\\n', feat_names[sorted_tfidfs_indexes[-11:-1:]])"
   ]
  },
  {
   "cell_type": "code",
   "execution_count": 52,
   "id": "147bc68e-acbb-40c7-84d3-16097564e89a",
   "metadata": {},
   "outputs": [
    {
     "data": {
      "text/plain": [
       "array(['00', '001', '007', ..., 'zinco', 'zn', 'zone'],\n",
       "      shape=(2948,), dtype=object)"
      ]
     },
     "execution_count": 52,
     "metadata": {},
     "output_type": "execute_result"
    }
   ],
   "source": [
    "cvect = CountVectorizer().fit(X_train)\n",
    "cfeat_names = cvect.get_feature_names_out()\n",
    "cfeat_names"
   ]
  },
  {
   "cell_type": "raw",
   "id": "82600dd5-cc8e-4e75-9734-1ea2bd611f92",
   "metadata": {},
   "source": [
    "MACHINE LEARNING##"
   ]
  },
  {
   "cell_type": "code",
   "execution_count": 53,
   "id": "762b6451-5670-4ecc-9c15-06ed01a3f661",
   "metadata": {},
   "outputs": [
    {
     "name": "stdout",
     "output_type": "stream",
     "text": [
      "Dummy accuracy score is:  0.7476635514018691\n"
     ]
    }
   ],
   "source": [
    "dummy = DummyClassifier(strategy='most_frequent').fit(tvect.transform(X_train), y_train)\n",
    "\n",
    "dummy_preds = dummy.predict(tvect.transform(X_test))\n",
    "\n",
    "print('Dummy accuracy score is: ', accuracy_score(y_test, dummy_preds))"
   ]
  },
  {
   "cell_type": "code",
   "execution_count": 54,
   "id": "fd40fcc5-05e1-4619-8458-8bd5fb7740e4",
   "metadata": {},
   "outputs": [
    {
     "name": "stdout",
     "output_type": "stream",
     "text": [
      "Dummy accuracy score is:  0.7476635514018691\n"
     ]
    }
   ],
   "source": [
    "dummy2 = DummyClassifier(strategy='most_frequent').fit(cvect.transform(X_train), y_train)\n",
    "\n",
    "dummy_preds2 = dummy.predict(cvect.transform(X_test))\n",
    "\n",
    "print('Dummy accuracy score is: ', accuracy_score(y_test, dummy_preds))"
   ]
  },
  {
   "cell_type": "code",
   "execution_count": 55,
   "id": "1b5bcd85-85e4-4a5f-921c-0a4e8ff4e2b4",
   "metadata": {},
   "outputs": [
    {
     "name": "stdout",
     "output_type": "stream",
     "text": [
      "The roc score is :\n",
      " 0.8951873526072145\n",
      "The accuracy score is:  0.7476635514018691\n"
     ]
    }
   ],
   "source": [
    "model = LogisticRegression(solver='liblinear').fit(tvect.transform(X_train), y_train)\n",
    "\n",
    "predictions = model.predict(tvect.transform(X_test))\n",
    "probas = model.predict_proba(tvect.transform(X_test))\n",
    "\n",
    "print('The roc score is :\\n',  roc_auc_score(y_test, probas, average='micro', multi_class='ovr'))\n",
    "print('The accuracy score is: ', accuracy_score(y_test, predictions))"
   ]
  },
  {
   "cell_type": "code",
   "execution_count": 56,
   "id": "aaa6912a-4700-45d4-8b7b-108f1f40d60b",
   "metadata": {},
   "outputs": [
    {
     "data": {
      "text/plain": [
       "array([[-0.07254414, -0.09263282, -0.09181226, ...,  0.04955658,\n",
       "         0.09997759, -0.07584661],\n",
       "       [ 0.01269277, -0.01455021, -0.01447354, ..., -0.02207081,\n",
       "        -0.05190193, -0.05036177],\n",
       "       [ 0.16398092,  0.13601277, -0.01296416, ..., -0.01604727,\n",
       "        -0.03569678,  0.04376287],\n",
       "       [-0.08165975, -0.01392082,  0.13412178, ..., -0.01379898,\n",
       "        -0.03576813,  0.09367432],\n",
       "       [-0.0302998 , -0.00483224, -0.0052883 , ..., -0.00546504,\n",
       "        -0.01608574, -0.01821547]], shape=(5, 3395))"
      ]
     },
     "execution_count": 56,
     "metadata": {},
     "output_type": "execute_result"
    }
   ],
   "source": [
    "model.coef_"
   ]
  },
  {
   "cell_type": "code",
   "execution_count": 57,
   "id": "cab7b544-af55-4e75-a5dd-7d72e82258c7",
   "metadata": {},
   "outputs": [
    {
     "name": "stdout",
     "output_type": "stream",
     "text": [
      "LEV1 the smallest coeffs are:\n",
      " ['of' 'rod' 'chain' 'tubing' 'against' 'cabinet' 'scoop' 'pressing' 'to'\n",
      " 'probe']\n",
      "\n",
      "LEV1 the largest coeffs are:\n",
      " ['mesh' 'when' 'from' 'in' 'collaborator' 'he' 'helmet' 'area' 'level'\n",
      " 'small']\n",
      "\n",
      "\n",
      "LEV2 the smallest coeffs are:\n",
      " ['the' 'at' 'on' 'with' 'is' 'he' 'mesh' 'to' 'pressed' 'operator']\n",
      "\n",
      "LEV2 the largest coeffs are:\n",
      " ['pressing' 'against' 'cut' 'blunt' 'using' 'ring' 'face' 'forearm'\n",
      " 'blade' 'bolt']\n",
      "\n",
      "\n",
      "LEV3 the smallest coeffs are:\n",
      " ['when' 'he' 'from' 'activity' 'right' 'face' 'at' 'was' 'using' 'reports']\n",
      "\n",
      "LEV3 the largest coeffs are:\n",
      " ['part' 'pump' 'chain' 'cabinet' 'tubing' 'finger' 'rod' 'inner' 'hand'\n",
      " 'manually']\n",
      "\n",
      "\n",
      "LEV4 the smallest coeffs are:\n",
      " ['employee' 'in' 'when' 'mesh' 'area' 'face' 'he' 'was' 'between' 'by']\n",
      "\n",
      "LEV4 the largest coeffs are:\n",
      " ['plate' 'an' 'arm' 'steel' 'proceed' 'plates' 'manhole' 'tower' 'climbs'\n",
      " 'at']\n",
      "\n",
      "\n",
      "LEV5 the smallest coeffs are:\n",
      " ['the' 'causing' 'employee' 'on' 'in' 'right' 'and' 'pipe' 'by' 'finger']\n",
      "\n",
      "LEV5 the largest coeffs are:\n",
      " ['scoop' 'mixkret' 'disk' 'inches' '75' 'filling' 'alone' '80' 'mechanic'\n",
      " 'cabinet']\n"
     ]
    }
   ],
   "source": [
    "sorted_indexes_coefs_lev1 = model.coef_[0].argsort()\n",
    "sorted_indexes_coefs_lev2 = model.coef_[1].argsort()\n",
    "sorted_indexes_coefs_lev3 = model.coef_[2].argsort()\n",
    "sorted_indexes_coefs_lev4 = model.coef_[3].argsort()\n",
    "sorted_indexes_coefs_lev5 = model.coef_[4].argsort()\n",
    "\n",
    "print('LEV1 the smallest coeffs are:\\n', feat_names[sorted_indexes_coefs_lev1[:10]])\n",
    "print('\\nLEV1 the largest coeffs are:\\n', feat_names[sorted_indexes_coefs_lev1[:-11:-1]])\n",
    "\n",
    "print('\\n\\nLEV2 the smallest coeffs are:\\n', feat_names[sorted_indexes_coefs_lev2[:10]])\n",
    "print('\\nLEV2 the largest coeffs are:\\n', feat_names[sorted_indexes_coefs_lev2[:-11:-1]])\n",
    "\n",
    "print('\\n\\nLEV3 the smallest coeffs are:\\n', feat_names[sorted_indexes_coefs_lev3[:10]])\n",
    "print('\\nLEV3 the largest coeffs are:\\n', feat_names[sorted_indexes_coefs_lev3[:-11:-1]])\n",
    "\n",
    "print('\\n\\nLEV4 the smallest coeffs are:\\n', feat_names[sorted_indexes_coefs_lev4[:10]])\n",
    "print('\\nLEV4 the largest coeffs are:\\n', feat_names[sorted_indexes_coefs_lev4[:-11:-1]])\n",
    "\n",
    "print('\\n\\nLEV5 the smallest coeffs are:\\n', feat_names[sorted_indexes_coefs_lev5[:10]])\n",
    "print('\\nLEV5 the largest coeffs are:\\n', feat_names[sorted_indexes_coefs_lev5[:-11:-1]])"
   ]
  },
  {
   "cell_type": "code",
   "execution_count": 58,
   "id": "cd0bf70d-d012-4b79-b694-2b4148b3f824",
   "metadata": {},
   "outputs": [
    {
     "name": "stdout",
     "output_type": "stream",
     "text": [
      "Accuracy score is: 0.7102803738317757\n"
     ]
    }
   ],
   "source": [
    "model2 = LogisticRegression(solver='liblinear').fit(cvect.transform(X_train), y_train)\n",
    "\n",
    "predictions2 = model2.predict(cvect.transform(X_test))\n",
    "print('Accuracy score is:', accuracy_score(y_test, predictions2))"
   ]
  },
  {
   "cell_type": "code",
   "execution_count": 59,
   "id": "64798ab6-11ef-4f9d-8cbe-3407713cc9df",
   "metadata": {},
   "outputs": [
    {
     "name": "stdout",
     "output_type": "stream",
     "text": [
      "LEV1 the smallest coeffs are:\n",
      " ['against' 'tubing' 'work' 'rod' 'chain' 'inside' 'cut' 'pressing'\n",
      " 'remove' 'fixed']\n",
      "\n",
      "LEV1 the largest coeffs are:\n",
      " ['when' 'from' 'collaborator' 'mesh' 'this' 'made' 'helmet' 'superficial'\n",
      " 'projected' 'zinc']\n",
      "\n",
      "\n",
      "LEV2 the smallest coeffs are:\n",
      " ['pressed' 'injury' 'material' 'pump' 'fell' 'with' 'on' 'is' 'in'\n",
      " 'superficial']\n",
      "\n",
      "LEV2 the largest coeffs are:\n",
      " ['using' 'against' 'cut' 'and' 'pressing' 'face' 'blade' 'pressure' 'ring'\n",
      " 'forearm']\n",
      "\n",
      "\n",
      "LEV3 the smallest coeffs are:\n",
      " ['when' 'from' 'right' 'at' 'activity' 'using' 'hit' 'collaborator'\n",
      " 'employee' 'face']\n",
      "\n",
      "LEV3 the largest coeffs are:\n",
      " ['part' 'to' 'tubing' 'chain' 'hand' 'manually' 'cabinet' 'pump' 'inner'\n",
      " 'rod']\n",
      "\n",
      "\n",
      "LEV4 the smallest coeffs are:\n",
      " ['employee' 'when' 'in' 'finger' 'area' 'part' 'time' 'made' 'between'\n",
      " 'mesh']\n",
      "\n",
      "LEV4 the largest coeffs are:\n",
      " ['plate' 'arm' 'steel' 'an' 'meters' 'proceed' 'protector' 'tower'\n",
      " 'position' 'as']\n",
      "\n",
      "\n",
      "LEV5 the smallest coeffs are:\n",
      " ['employee' 'causing' 'on' 'the' 'in' 'when' 'right' 'by' 'finger' 'left']\n",
      "\n",
      "LEV5 the largest coeffs are:\n",
      " ['scoop' 'mechanic' 'mixkret' 'accident' '75' 'filling' 'inside' '80'\n",
      " 'time' 'hydraulic']\n"
     ]
    }
   ],
   "source": [
    "coef_indexes_lev1_sorted = model2.coef_[0].argsort()\n",
    "coef_indexes_lev2_sorted = model2.coef_[1].argsort()\n",
    "coef_indexes_lev3_sorted = model2.coef_[2].argsort()\n",
    "coef_indexes_lev4_sorted = model2.coef_[3].argsort()\n",
    "coef_indexes_lev5_sorted = model2.coef_[4].argsort()\n",
    "\n",
    "print('LEV1 the smallest coeffs are:\\n', cfeat_names[coef_indexes_lev1_sorted[:10]])\n",
    "print('\\nLEV1 the largest coeffs are:\\n', cfeat_names[coef_indexes_lev1_sorted[:-11:-1]])\n",
    "\n",
    "print('\\n\\nLEV2 the smallest coeffs are:\\n', cfeat_names[coef_indexes_lev2_sorted[:10]])\n",
    "print('\\nLEV2 the largest coeffs are:\\n', cfeat_names[coef_indexes_lev2_sorted[:-11:-1]])\n",
    "\n",
    "print('\\n\\nLEV3 the smallest coeffs are:\\n', cfeat_names[coef_indexes_lev3_sorted[:10]])\n",
    "print('\\nLEV3 the largest coeffs are:\\n', cfeat_names[coef_indexes_lev3_sorted[:-11:-1]])\n",
    "\n",
    "print('\\n\\nLEV4 the smallest coeffs are:\\n', cfeat_names[coef_indexes_lev4_sorted[:10]])\n",
    "print('\\nLEV4 the largest coeffs are:\\n', cfeat_names[coef_indexes_lev4_sorted[:-11:-1]])\n",
    "\n",
    "print('\\n\\nLEV5 the smallest coeffs are:\\n', cfeat_names[coef_indexes_lev5_sorted[:10]])\n",
    "print('\\nLEV5 the largest coeffs are:\\n', cfeat_names[coef_indexes_lev5_sorted[:-11:-1]])"
   ]
  },
  {
   "cell_type": "code",
   "execution_count": 60,
   "id": "759fbee3-937c-4184-9a5f-f1ffe4523f21",
   "metadata": {},
   "outputs": [
    {
     "name": "stdout",
     "output_type": "stream",
     "text": [
      "The accuracy score is:  0.7383177570093458\n",
      "the top 20 most important features are:  ['tubing' 'using' 'of' 'proceed' 'against' 'pressing' 'rod' 'and' 'blunt'\n",
      " 'chain' 'work' 'finger' 'pressure' 'at' 'to' 'forearm' 'cut' 'the' 'wall'\n",
      " 'causing' 'alone' 'an' 'close' 'release' 'injuries' '05' 'stop' 'scoop'\n",
      " 'under' 'moving']\n"
     ]
    }
   ],
   "source": [
    "clf = RandomForestClassifier(random_state=0).fit(tvect.transform(X_train), y_train)\n",
    "\n",
    "important_features_indices = clf.feature_importances_.argsort()\n",
    "clf_preds = clf.predict(tvect.transform(X_test))\n",
    "\n",
    "print('The accuracy score is: ', accuracy_score(y_test, clf_preds))\n",
    "print('the top 20 most important features are: ', feat_names[important_features_indices[:-31:-1]])"
   ]
  },
  {
   "cell_type": "code",
   "execution_count": 61,
   "id": "0a1a017a-e939-464c-bdac-fdcbdac9892c",
   "metadata": {},
   "outputs": [
    {
     "name": "stdout",
     "output_type": "stream",
     "text": [
      "the top 20 most important features are:  ['silver' 'brapdd' 'avoiding' 'people' 'electrician' 'emergency' 'move'\n",
      " 'mário' 'laden' 'murilo' 'lime' 'striking' 'protruding' 'ball' 'enoc'\n",
      " 'blackjack' 'sanding' 'advances' 'access' 'oven' 'crane' 'adjoining'\n",
      " 'canvas' 'serious' 'distal' 'fuses' 'messrs' 'platform' 'anchorage'\n",
      " 'hold']\n"
     ]
    }
   ],
   "source": [
    "clf = RandomForestClassifier(random_state=0).fit(cvect.transform(X_train), y_train)\n",
    "\n",
    "important_features_indices = clf.feature_importances_.argsort()\n",
    "print('the top 20 most important features are: ', feat_names[important_features_indices[:-31:-1]])"
   ]
  },
  {
   "cell_type": "markdown",
   "id": "ee84c00b-d7d3-434c-940c-f58ba26e9bf3",
   "metadata": {},
   "source": [
    "NLP & MACHINE LEARNING SUMMARY\n",
    "\n",
    "1. There is a massive class imbalance which explains the decent performance of the dummy classifiers\n",
    "2. The machine learning models on default parameters perfomed worse than the dummy classifiers on accuracy indicating need for further\n",
    "hyperparameter tuning or feature addition.\n",
    "3. From the random forest classifier, features such as finger and forearm were some of the most informative features. The same features seemed\n",
    "to have some of the highest coeffients with tfidf and count vectorizer indicating a significance of around hand related injuries.\n",
    "4. In as much as alot of useful information can be gathered from accident descrriptions, using them to predict accidents is not very\n",
    "wise and descriptions are only written after accidents have occured, therefore what is more helpful is to understand the circumstances just before\n",
    "the accident occurs. A good suggestion is make sure that these descriptions capture as much of this information as possible."
   ]
  },
  {
   "cell_type": "code",
   "execution_count": null,
   "id": "54714b60-25d1-4468-9f05-fdfeea5c6f94",
   "metadata": {},
   "outputs": [],
   "source": []
  }
 ],
 "metadata": {
  "kernelspec": {
   "display_name": "Python 3 (ipykernel)",
   "language": "python",
   "name": "python3"
  },
  "language_info": {
   "codemirror_mode": {
    "name": "ipython",
    "version": 3
   },
   "file_extension": ".py",
   "mimetype": "text/x-python",
   "name": "python",
   "nbconvert_exporter": "python",
   "pygments_lexer": "ipython3",
   "version": "3.13.1"
  }
 },
 "nbformat": 4,
 "nbformat_minor": 5
}
